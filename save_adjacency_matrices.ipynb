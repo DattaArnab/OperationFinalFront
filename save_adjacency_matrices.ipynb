{
 "cells": [
  {
   "metadata": {
    "ExecuteTime": {
     "end_time": "2025-05-24T14:31:35.977790Z",
     "start_time": "2025-05-24T14:31:35.974943Z"
    }
   },
   "cell_type": "code",
   "source": [
    "import pandas as pd\n",
    "import os\n",
    "from sklearn.metrics import accuracy_score, f1_score, precision_score, recall_score\n",
    "from fuel import GraphAdjacencyMatrixExtractor"
   ],
   "id": "d83defd34f0a3a5c",
   "outputs": [],
   "execution_count": 31
  },
  {
   "metadata": {
    "ExecuteTime": {
     "end_time": "2025-05-24T14:38:23.278509Z",
     "start_time": "2025-05-24T14:38:23.271797Z"
    }
   },
   "cell_type": "code",
   "source": [
    "def load_ground_truth():\n",
    "    \"\"\"\n",
    "    Load ground truth adjacency matrices from CSV file with new column structure.\n",
    "    \"\"\"\n",
    "    # Define the expected columns and header row\n",
    "    column_names= ['graph_id','num_nodes'] + [f'a{i}' for i in range(36)]\n",
    "\n",
    "    # Read the CSV file\n",
    "    df = pd.read_csv('adjacency_matrices.csv', header=0)\n",
    "\n",
    "    ground_truth = {}\n",
    "    for idx, row in df.iterrows():\n",
    "        try:\n",
    "            graph_id = int(row['graph_id'])\n",
    "            num_nodes = int(row['num_nodes'])\n",
    "            if num_nodes == 0:\n",
    "                continue\n",
    "            # Extract adjacency matrix values (a0 ... a35)\n",
    "            matrix_values = [int(row[f'a{i}']) for i in range(num_nodes * num_nodes)]\n",
    "            matrix = np.array(matrix_values, dtype=int).reshape(num_nodes, num_nodes)\n",
    "            ground_truth[graph_id] = matrix\n",
    "        except Exception:\n",
    "            continue\n",
    "    return ground_truth\n"
   ],
   "id": "a1589f034875745f",
   "outputs": [],
   "execution_count": 40
  },
  {
   "metadata": {
    "ExecuteTime": {
     "end_time": "2025-05-24T14:38:24.947446Z",
     "start_time": "2025-05-24T14:38:24.938906Z"
    }
   },
   "cell_type": "code",
   "source": [
    "\n",
    "def calculate_metrics(predicted, ground_truth):\n",
    "    \"\"\"\n",
    "    Calculate accuracy metrics by comparing predicted adjacency matrices with ground truth\n",
    "    \"\"\"\n",
    "    all_true = []\n",
    "    all_pred = []\n",
    "\n",
    "    # Ensure keys are int for matching\n",
    "    pred_keys = set(int(k) for k in predicted.keys())\n",
    "    gt_keys = set(int(k) for k in ground_truth.keys())\n",
    "    common_keys = pred_keys & gt_keys\n",
    "\n",
    "    for graph_id in sorted(common_keys):\n",
    "        gt_matrix = ground_truth[graph_id]\n",
    "        pred_matrix = predicted[graph_id]\n",
    "        # If matrices have different shapes, skip\n",
    "        if gt_matrix.shape != pred_matrix.shape:\n",
    "            continue\n",
    "        all_true.extend(gt_matrix.flatten().astype(int).tolist())\n",
    "        all_pred.extend(pred_matrix.flatten().astype(int).tolist())\n",
    "\n",
    "    # Calculate metrics\n",
    "    if len(all_true) > 0 and len(all_pred) > 0:\n",
    "        accuracy = accuracy_score(all_true, all_pred)\n",
    "        precision = precision_score(all_true, all_pred, zero_division=0)\n",
    "        recall = recall_score(all_true, all_pred, zero_division=0)\n",
    "        f1 = f1_score(all_true, all_pred, zero_division=0)\n",
    "    else:\n",
    "        accuracy = 0\n",
    "        precision = 0\n",
    "        recall = 0\n",
    "        f1 = 0\n",
    "\n",
    "    return {\n",
    "        'accuracy': accuracy,\n",
    "        'precision': precision,\n",
    "        'recall': recall,\n",
    "        'f1': f1\n",
    "    }\n"
   ],
   "id": "7effb3db76f80601",
   "outputs": [],
   "execution_count": 41
  },
  {
   "metadata": {
    "ExecuteTime": {
     "end_time": "2025-05-24T14:38:41.758547Z",
     "start_time": "2025-05-24T14:38:25.683949Z"
    }
   },
   "cell_type": "code",
   "source": [
    "\n",
    "def main(image_dir='graphs_images'):\n",
    "    \"\"\"\n",
    "    Process all graph images in the directory and save results to CSV\n",
    "    \"\"\"\n",
    "    extractor = GraphAdjacencyMatrixExtractor()\n",
    "    predicted = {}\n",
    "    results = []\n",
    "\n",
    "    # Use the new column names and header row\n",
    "    column_names = ['graph_id','num_nodes'] + [f'a{i}' for i in range(36)]\n",
    "    results = []\n",
    "\n",
    "    max_cols = 38  # 2 for id and num_nodes, 36 for a0..a35\n",
    "\n",
    "    # Get all image files\n",
    "    image_files = [f for f in os.listdir(image_dir) if f.endswith('.png')]\n",
    "    for image_file in image_files:\n",
    "        # Extract graph_id\n",
    "        graph_id = int(image_file.split('.')[0])\n",
    "        image_path = os.path.join(image_dir, image_file)\n",
    "\n",
    "        # Extract adjacency matrix\n",
    "        adjacency_matrix, labels = extractor.extract_adjacency_matrix(image_path)\n",
    "\n",
    "        if len(adjacency_matrix) > 0:\n",
    "            # Order the adjacency matrix based on node labels\n",
    "            ordered_matrix, ordered_labels = extractor.order_adjacency_matrix(adjacency_matrix, labels)\n",
    "            predicted[graph_id] = ordered_matrix\n",
    "            flat_values = ordered_matrix.flatten().tolist()\n",
    "            # Pad with zeros to always have 36 values (for up to 6x6 matrices)\n",
    "            flat_padded = flat_values + [0] * (36 - len(flat_values))\n",
    "            row = [graph_id, len(ordered_matrix)] + flat_padded\n",
    "            results.append(row)\n",
    "\n",
    "    # Create DataFrame with new column names\n",
    "    results_df = pd.DataFrame(results, columns=column_names)\n",
    "    # Separate the first row\n",
    "    first_row = results_df.iloc[[0]]\n",
    "    # Sort the rest of the DataFrame\n",
    "    rest_sorted = results_df.iloc[1:].sort_values(by='graph_id')\n",
    "    # Concatenate the first row back on top\n",
    "    results_df = pd.concat([first_row, rest_sorted], ignore_index=True)\n",
    "    # Save to CSV\n",
    "    results_df.to_csv('output.csv', index=False)\n",
    "\n",
    "    # Calculate accuracy\n",
    "    ground_truth = load_ground_truth()\n",
    "    metrics = calculate_metrics(predicted, ground_truth)\n",
    "\n",
    "    # Display metrics\n",
    "    print(\"\\n===== Adjacency Matrix Extraction Metrics =====\")\n",
    "    print(f\"Accuracy:  {metrics['accuracy']:.4f}\")\n",
    "    print(f\"Precision: {metrics['precision']:.4f}\")\n",
    "    print(f\"Recall:    {metrics['recall']:.4f}\")\n",
    "    print(f\"F1 Score:  {metrics['f1']:.4f}\")\n",
    "    print(\"===============================================\\n\")\n",
    "\n",
    "    # Save metrics to a file\n",
    "    with open('accuracy_metrics.txt', 'w') as f:\n",
    "        for metric, value in metrics.items():\n",
    "            f.write(f\"{metric}: {value:.4f}\\n\")\n",
    "\n",
    "    return metrics\n",
    "\n",
    "if __name__ == \"__main__\":\n",
    "    metrics = main()"
   ],
   "id": "97fdf1e16c5d8a08",
   "outputs": [
    {
     "name": "stdout",
     "output_type": "stream",
     "text": [
      "\n",
      "===== Adjacency Matrix Extraction Metrics =====\n",
      "Accuracy:  0.9715\n",
      "Precision: 0.9253\n",
      "Recall:    0.9876\n",
      "F1 Score:  0.9554\n",
      "===============================================\n",
      "\n"
     ]
    }
   ],
   "execution_count": 42
  },
  {
   "metadata": {
    "ExecuteTime": {
     "end_time": "2025-05-24T14:39:05.174026Z",
     "start_time": "2025-05-24T14:39:05.114229Z"
    }
   },
   "cell_type": "code",
   "source": [
    "import pandas as pd\n",
    "import numpy as np\n",
    "from fuel import solve_minimum_fuel_optimized  # Make sure this is imported correctly\n",
    "\n",
    "def load_matrices(csv_path):\n",
    "    df = pd.read_csv(csv_path)\n",
    "\n",
    "    matrices = {}\n",
    "    try:\n",
    "        for _, row in df.iterrows():\n",
    "\n",
    "            graph_id = row.iloc[0]\n",
    "            if graph_id == 'graph_id':\n",
    "                continue\n",
    "            else:\n",
    "                graph_id = int(graph_id)\n",
    "            num_nodes = int(row.iloc[1])\n",
    "            if num_nodes == 0:\n",
    "                continue\n",
    "            matrix_values = [int(row[f'a{i}']) for i in range(num_nodes * num_nodes)]\n",
    "            matrix = np.array(matrix_values, dtype=int).reshape(num_nodes, num_nodes)\n",
    "            matrices[graph_id] = matrix\n",
    "        return matrices\n",
    "    except Exception:\n",
    "        return matrices\n",
    "\n",
    "def compute_fuel_for_all(matrices):\n",
    "    fuels = {}\n",
    "    for graph_id, matrix in matrices.items():\n",
    "        # By default, start at node 0, end at last node\n",
    "        start_idx = 0\n",
    "        end_idx = matrix.shape[0] - 1\n",
    "        try:\n",
    "            fuel = solve_minimum_fuel_optimized(matrix, start_idx, end_idx)\n",
    "        except Exception:\n",
    "            fuel = -1  # Or np.inf if unreachable\n",
    "        fuels[graph_id] = fuel\n",
    "    return fuels\n",
    "\n",
    "def practical_accuracy(pred_fuels, gt_fuels):\n",
    "    common_ids = set(pred_fuels.keys()) & set(gt_fuels.keys())\n",
    "    correct = sum(pred_fuels[i] == gt_fuels[i] for i in common_ids)\n",
    "    total = len(common_ids)\n",
    "    return correct / total if total > 0 else 0\n",
    "\n",
    "if __name__ == \"__main__\":\n",
    "    pred_matrices = load_matrices('output.csv')\n",
    "    gt_matrices = load_matrices('adjacency_matrices.csv')\n",
    "\n",
    "    pred_fuels = compute_fuel_for_all(pred_matrices)\n",
    "    gt_fuels = compute_fuel_for_all(gt_matrices)\n",
    "\n",
    "    acc = practical_accuracy(pred_fuels, gt_fuels)\n",
    "    print(f\"Practical accuracy (fuel match): {acc:.4f}\")"
   ],
   "id": "4be085f24a2cacf4",
   "outputs": [
    {
     "name": "stdout",
     "output_type": "stream",
     "text": [
      "Practical accuracy (fuel match): 0.9260\n"
     ]
    }
   ],
   "execution_count": 43
  }
 ],
 "metadata": {
  "kernelspec": {
   "display_name": "Python 3",
   "language": "python",
   "name": "python3"
  },
  "language_info": {
   "codemirror_mode": {
    "name": "ipython",
    "version": 2
   },
   "file_extension": ".py",
   "mimetype": "text/x-python",
   "name": "python",
   "nbconvert_exporter": "python",
   "pygments_lexer": "ipython2",
   "version": "2.7.6"
  }
 },
 "nbformat": 4,
 "nbformat_minor": 5
}
